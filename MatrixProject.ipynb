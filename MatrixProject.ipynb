{
  "nbformat": 4,
  "nbformat_minor": 0,
  "metadata": {
    "colab": {
      "name": "MatrixProject.ipynb",
      "provenance": [],
      "authorship_tag": "ABX9TyP3OmZ6muK1FklzJMs5h8ba",
      "include_colab_link": true
    },
    "kernelspec": {
      "name": "python3",
      "display_name": "Python 3"
    },
    "language_info": {
      "name": "python"
    }
  },
  "cells": [
    {
      "cell_type": "markdown",
      "metadata": {
        "id": "view-in-github",
        "colab_type": "text"
      },
      "source": [
        "<a href=\"https://colab.research.google.com/github/SimplyJuanjo/MatrixProject/blob/main/MatrixProject.ipynb\" target=\"_parent\"><img src=\"https://colab.research.google.com/assets/colab-badge.svg\" alt=\"Open In Colab\"/></a>"
      ]
    },
    {
      "cell_type": "code",
      "metadata": {
        "id": "r2L1FbzkXFGf"
      },
      "source": [
        "#MatrixProject\n",
        "\n",
        "#Implement a class Matrix with the following:\n",
        "\n",
        "  # - Atributes: dims (heigth and width), vals and any other you need (implemented)\n",
        "  # - Methods: sum, diff, multiply, transpose and any other you need (implememted)\n",
        "  # - Implement an special class inherited Vector (implemented)"
      ],
      "execution_count": null,
      "outputs": []
    },
    {
      "cell_type": "code",
      "metadata": {
        "id": "mJG0-IJpYDXW"
      },
      "source": [
        "class Matrix():\n",
        "\n",
        "  def __init__(self, n, m):\n",
        "    #Initialize a nxm matrix of zeros\n",
        "    self.n = n\n",
        "    self.m = m\n",
        "    self.vals = []\n",
        "    for i in range(self.n):\n",
        "      self.vals.append([])\n",
        "      for j in range(self.m):\n",
        "        self.vals[i].append(1)\n",
        "\n",
        "  def giveVals(self):\n",
        "    #Give vals to the matrix from left to right column and from up to bottom row\n",
        "    for i in range(self.n):\n",
        "      for j in range(self.m):\n",
        "        self.vals[i][j] = int(input(\"From NorthWest to SouthEast. Assign value: \"))\n",
        "\n",
        "  def __add__(self, other):\n",
        "\n",
        "    if self.n  == other.n and self.m == other.m:\n",
        "      new = []\n",
        "      for i in range(self.n):\n",
        "        new.append([])\n",
        "        for j in range(self.m):\n",
        "          tempVal = self.vals[i][j] + other.vals[i][j]\n",
        "          new[i].append(tempVal)\n",
        "    else:\n",
        "      raise Exception(\"ERROR: Not matching dimensions\")\n",
        "\n",
        "    return new\n",
        "\n",
        "  def __sub__(self, other):\n",
        "\n",
        "    if self.n  == other.n and self.m == other.m:\n",
        "      new = []\n",
        "      for i in range(self.n):\n",
        "        new.append([])\n",
        "        for j in range(self.m):\n",
        "          tempVal = self.vals[i][j] - other.vals[i][j]\n",
        "          new[i].append(tempVal)\n",
        "    else:\n",
        "      raise Exception(\"ERROR: Not matching dimensions\")\n",
        "\n",
        "    return new\n",
        "\n",
        "  def __mul__(self, other):\n",
        "\n",
        "    if self.m == other.n:\n",
        "      new = []\n",
        "      for i in range(self.n):\n",
        "        new.append([])\n",
        "        for j in range(other.m):\n",
        "          new[i].append(0)\n",
        "          for k in range(other.n):\n",
        "            new[i][j] += self.vals[i][k] * other.vals[k][j]\n",
        "\n",
        "#      for i in range(self.n):\n",
        "#        for j in range(other.m):             Okey, now refactor them together\n",
        "#          for k in range(other.n):\n",
        "#            new[i][j] += self.vals[i][k] * other.vals[k][j]\n",
        "\n",
        "    else:\n",
        "      raise Exception(\"ERROR: Not matching dimensions\")\n",
        "\n",
        "    return new\n",
        "\n",
        "  def transpose(self):\n",
        "    transp = [] \n",
        "    for i in range(self.m):\n",
        "      transp.append([])\n",
        "      for j in range(self.n):\n",
        "        transp[i].append(self.vals[j][i])\n",
        "    \n",
        "    return transp\n",
        "\n",
        "\n",
        "#class nVector(Matrix):\n",
        "\n",
        "#  def __init__(self, n, m):\n",
        "    #Initialize a matrix of n-rows but 1 column\n",
        "#    self.n = n\n",
        "#    self.m = 1\n",
        "\n",
        "#class mVector(Matrix):\n",
        "  \n",
        "#  def __init__(self, n, m):\n",
        "    #Initialize a matrix of n-rows but 1 column\n",
        "#    self.n = 1\n",
        "#    self.m = m\n",
        "\n",
        "#I can refactor this better\n",
        "class Vector(Matrix):\n",
        "\n",
        "  def __init__(self, n, m):\n",
        "\n",
        "    if n == 1 and m != 1:\n",
        "      super().__init__(1, m)\n",
        "    elif m == 1 and n != 1:\n",
        "      super().__init__(n, 1)\n",
        "    else: \n",
        "      print(\"This is not a vector, please initialize rows or columns with only 1 dimension\")\n",
        "\n",
        "  def giveVals():\n",
        "    super().giveVals()"
      ],
      "execution_count": 31,
      "outputs": []
    },
    {
      "cell_type": "code",
      "metadata": {
        "colab": {
          "base_uri": "https://localhost:8080/"
        },
        "id": "M_ruGVJ9f2rG",
        "outputId": "78e30aa7-952e-4919-a0dc-4fbd8b928d09"
      },
      "source": [
        "v = Vector(1,5)\n",
        "w = Vector(5,1)\n",
        "x = Vector(3,5)\n",
        "\n",
        "print(v.__dict__)\n",
        "print(w.__dict__)\n",
        "print(x.__dict__)"
      ],
      "execution_count": 63,
      "outputs": [
        {
          "output_type": "stream",
          "name": "stdout",
          "text": [
            "This is not a vector, please initialize rows or columns with only 1 dimension\n",
            "{'n': 1, 'm': 5, 'vals': [[0, 0, 0, 0, 0]]}\n",
            "{'n': 5, 'm': 1, 'vals': [[0], [0], [0], [0], [0]]}\n",
            "{}\n"
          ]
        }
      ]
    },
    {
      "cell_type": "code",
      "metadata": {
        "colab": {
          "base_uri": "https://localhost:8080/"
        },
        "id": "g9XqB_Eyazfh",
        "outputId": "6c0fea66-609e-49a5-8d70-d1f910003ec9"
      },
      "source": [
        "A = Matrix(3,2)\n",
        "B = Matrix(2,2)\n",
        "print(A.__dict__)\n",
        "print(B.__dict__)"
      ],
      "execution_count": 32,
      "outputs": [
        {
          "output_type": "stream",
          "name": "stdout",
          "text": [
            "{'n': 3, 'm': 2, 'vals': [[1, 1], [1, 1], [1, 1]]}\n",
            "{'n': 2, 'm': 2, 'vals': [[1, 1], [1, 1]]}\n"
          ]
        }
      ]
    },
    {
      "cell_type": "code",
      "metadata": {
        "colab": {
          "base_uri": "https://localhost:8080/"
        },
        "id": "mjxl9QcObDk6",
        "outputId": "30981b69-f3c8-454e-d1e4-324dab744394"
      },
      "source": [
        "A.giveVals()\n",
        "B.giveVals()"
      ],
      "execution_count": 33,
      "outputs": [
        {
          "name": "stdout",
          "output_type": "stream",
          "text": [
            "From NorthWest to SouthEast. Assign value: 1\n",
            "From NorthWest to SouthEast. Assign value: 1\n",
            "From NorthWest to SouthEast. Assign value: 2\n",
            "From NorthWest to SouthEast. Assign value: 2\n",
            "From NorthWest to SouthEast. Assign value: 3\n",
            "From NorthWest to SouthEast. Assign value: 3\n",
            "From NorthWest to SouthEast. Assign value: 2\n",
            "From NorthWest to SouthEast. Assign value: 2\n",
            "From NorthWest to SouthEast. Assign value: 2\n",
            "From NorthWest to SouthEast. Assign value: 2\n"
          ]
        }
      ]
    },
    {
      "cell_type": "code",
      "metadata": {
        "colab": {
          "base_uri": "https://localhost:8080/"
        },
        "id": "m54-Xnkoy-2V",
        "outputId": "407a2364-892d-4d7a-afd6-83a14ebd01a3"
      },
      "source": [
        "print(A.__dict__)\n",
        "print(B.__dict__)"
      ],
      "execution_count": 34,
      "outputs": [
        {
          "output_type": "stream",
          "name": "stdout",
          "text": [
            "{'n': 3, 'm': 2, 'vals': [[1, 1], [2, 2], [3, 3]]}\n",
            "{'n': 2, 'm': 2, 'vals': [[2, 2], [2, 2]]}\n"
          ]
        }
      ]
    },
    {
      "cell_type": "code",
      "metadata": {
        "colab": {
          "base_uri": "https://localhost:8080/"
        },
        "id": "KOFhffiBx0XB",
        "outputId": "5bac021f-e2f2-4d40-b418-ae76d0837b34"
      },
      "source": [
        "A * B"
      ],
      "execution_count": 23,
      "outputs": [
        {
          "output_type": "execute_result",
          "data": {
            "text/plain": [
              "[[5, 5], [10, 10], [15, 15]]"
            ]
          },
          "metadata": {},
          "execution_count": 23
        }
      ]
    },
    {
      "cell_type": "code",
      "metadata": {
        "id": "PfhYXRhzbsvl",
        "outputId": "302d560e-004c-4094-cb4e-dfc704ee4a9d",
        "colab": {
          "base_uri": "https://localhost:8080/"
        }
      },
      "source": [
        "A.transpose()"
      ],
      "execution_count": 35,
      "outputs": [
        {
          "output_type": "execute_result",
          "data": {
            "text/plain": [
              "[[1, 2, 3], [1, 2, 3]]"
            ]
          },
          "metadata": {},
          "execution_count": 35
        }
      ]
    },
    {
      "cell_type": "code",
      "metadata": {
        "colab": {
          "base_uri": "https://localhost:8080/"
        },
        "id": "WQk7oL-xi5VN",
        "outputId": "0e19729a-22d0-4f42-dc59-fdc96b6e8fb1"
      },
      "source": [
        "C = A + B\n",
        "D = A - B\n",
        "\n",
        "print(C)\n",
        "print(D)"
      ],
      "execution_count": 84,
      "outputs": [
        {
          "output_type": "stream",
          "name": "stdout",
          "text": [
            "[[2, 2, 2], [2, 2, 2]]\n",
            "[[0, 0, 0], [0, 0, 0]]\n"
          ]
        }
      ]
    },
    {
      "cell_type": "code",
      "metadata": {
        "colab": {
          "base_uri": "https://localhost:8080/"
        },
        "id": "p6MfTWzabdOP",
        "outputId": "e5e144d6-77b8-4be5-9dc3-57b0034fbe59"
      },
      "source": [
        "testM = [[1, 3, 4],\n",
        "         [3, 7, 9]]\n",
        "\n",
        "print(testM[0][0])"
      ],
      "execution_count": 41,
      "outputs": [
        {
          "output_type": "stream",
          "name": "stdout",
          "text": [
            "[0]\n"
          ]
        }
      ]
    },
    {
      "cell_type": "code",
      "metadata": {
        "colab": {
          "base_uri": "https://localhost:8080/"
        },
        "id": "cp0jcuZ6eXXu",
        "outputId": "b6f1c905-ddbe-41e2-9093-5be27c4a39a3"
      },
      "source": [
        "print(v.__dict__)\n",
        "print(2%1)"
      ],
      "execution_count": 86,
      "outputs": [
        {
          "output_type": "stream",
          "name": "stdout",
          "text": [
            "{'n': 1, 'm': 5, 'vals': [[1, 5, 6, 7, 2]]}\n",
            "0\n"
          ]
        }
      ]
    }
  ]
}